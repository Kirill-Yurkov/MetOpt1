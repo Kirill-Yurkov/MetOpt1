{
 "cells": [
  {
   "cell_type": "markdown",
   "metadata": {},
   "source": [
    "<h1 align=\"center\"> Лабораторная работа №1</h1>\n",
    "<h1 align=\"center\"> Градиентный спуск первого порядка </h1>\n",
    "\n",
    "---\n",
    "\n",
    "<h1 align=\"center\"> Университет ИТМО </h1>\n",
    "<h2 align=\"center\"> Факультет систем управления и робототехники </h2>\n",
    "\n",
    "---\n",
    "\n",
    "<h2 align=\"center\"> Функция Химмельблау </h2>\n",
    "\n",
    "---\n",
    "\n",
    "### Выполниили:\n",
    "- **Бархоткина Анастасия 408226**\n",
    "- **Лаврик Вадим 408969**\n",
    "- **Юрков Кирилл 409936**\n",
    "\n",
    "---\n",
    "\n",
    "### Преподаватель:\n",
    "- **Хитров Егор Германович**\n",
    "\n",
    "---\n",
    "\n",
    "### 2025 г.\n",
    "\n",
    "---"
   ]
  }
 ],
 "metadata": {
  "kernelspec": {
   "display_name": ".venv",
   "language": "python",
   "name": "python3"
  },
  "language_info": {
   "name": "python",
   "version": "3.10.8"
  }
 },
 "nbformat": 4,
 "nbformat_minor": 2
}
